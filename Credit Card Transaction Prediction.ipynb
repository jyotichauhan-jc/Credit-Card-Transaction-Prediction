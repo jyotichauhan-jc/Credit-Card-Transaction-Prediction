{
 "cells": [
  {
   "cell_type": "code",
   "execution_count": 1,
   "metadata": {
    "ExecuteTime": {
     "end_time": "2020-10-02T09:00:48.837722Z",
     "start_time": "2020-10-02T09:00:05.726409Z"
    }
   },
   "outputs": [],
   "source": [
    "#importing necessary tools and libraries\n",
    "import numpy as np \n",
    "import pandas as pd\n",
    "import matplotlib.pyplot as plt\n",
    "%matplotlib inline\n",
    "import seaborn as sns\n",
    "import warnings\n",
    "warnings.filterwarnings('ignore')\n",
    "from sklearn.metrics import *\n",
    "pd.set_option('display.max_columns',70)"
   ]
  },
  {
   "cell_type": "code",
   "execution_count": 2,
   "metadata": {
    "ExecuteTime": {
     "end_time": "2020-10-02T09:00:50.332401Z",
     "start_time": "2020-10-02T09:00:48.840645Z"
    }
   },
   "outputs": [],
   "source": [
    "df_train= pd.read_csv('train.csv') #importing training dataset"
   ]
  },
  {
   "cell_type": "code",
   "execution_count": 3,
   "metadata": {
    "ExecuteTime": {
     "end_time": "2020-10-02T09:00:50.820349Z",
     "start_time": "2020-10-02T09:00:50.342230Z"
    }
   },
   "outputs": [],
   "source": [
    "df_test= pd.read_csv('test.csv') #importing test dataset"
   ]
  },
  {
   "cell_type": "code",
   "execution_count": 4,
   "metadata": {
    "ExecuteTime": {
     "end_time": "2020-10-02T09:00:50.837305Z",
     "start_time": "2020-10-02T09:00:50.824340Z"
    }
   },
   "outputs": [
    {
     "data": {
      "text/plain": [
       "Index(['id', 'account_type', 'gender', 'age', 'region_code', 'cc_cons_apr',\n",
       "       'dc_cons_apr', 'cc_cons_may', 'dc_cons_may', 'cc_cons_jun',\n",
       "       'dc_cons_jun', 'cc_count_apr', 'cc_count_may', 'cc_count_jun',\n",
       "       'dc_count_apr', 'dc_count_may', 'dc_count_jun', 'card_lim',\n",
       "       'personal_loan_active', 'vehicle_loan_active', 'personal_loan_closed',\n",
       "       'vehicle_loan_closed', 'investment_1', 'investment_2', 'investment_3',\n",
       "       'investment_4', 'debit_amount_apr', 'credit_amount_apr',\n",
       "       'debit_count_apr', 'credit_count_apr', 'max_credit_amount_apr',\n",
       "       'debit_amount_may', 'credit_amount_may', 'credit_count_may',\n",
       "       'debit_count_may', 'max_credit_amount_may', 'debit_amount_jun',\n",
       "       'credit_amount_jun', 'credit_count_jun', 'debit_count_jun',\n",
       "       'max_credit_amount_jun', 'loan_enq', 'emi_active', 'cc_cons'],\n",
       "      dtype='object')"
      ]
     },
     "execution_count": 4,
     "metadata": {},
     "output_type": "execute_result"
    }
   ],
   "source": [
    "df_train.columns"
   ]
  },
  {
   "cell_type": "code",
   "execution_count": 5,
   "metadata": {
    "ExecuteTime": {
     "end_time": "2020-10-02T09:00:52.071512Z",
     "start_time": "2020-10-02T09:00:50.840299Z"
    }
   },
   "outputs": [
    {
     "data": {
      "text/html": [
       "<div>\n",
       "<style scoped>\n",
       "    .dataframe tbody tr th:only-of-type {\n",
       "        vertical-align: middle;\n",
       "    }\n",
       "\n",
       "    .dataframe tbody tr th {\n",
       "        vertical-align: top;\n",
       "    }\n",
       "\n",
       "    .dataframe thead th {\n",
       "        text-align: right;\n",
       "    }\n",
       "</style>\n",
       "<table border=\"1\" class=\"dataframe\">\n",
       "  <thead>\n",
       "    <tr style=\"text-align: right;\">\n",
       "      <th></th>\n",
       "      <th>id</th>\n",
       "      <th>account_type</th>\n",
       "      <th>gender</th>\n",
       "      <th>age</th>\n",
       "      <th>region_code</th>\n",
       "      <th>cc_cons_apr</th>\n",
       "      <th>dc_cons_apr</th>\n",
       "      <th>cc_cons_may</th>\n",
       "      <th>dc_cons_may</th>\n",
       "      <th>cc_cons_jun</th>\n",
       "      <th>dc_cons_jun</th>\n",
       "      <th>cc_count_apr</th>\n",
       "      <th>cc_count_may</th>\n",
       "      <th>cc_count_jun</th>\n",
       "      <th>dc_count_apr</th>\n",
       "      <th>dc_count_may</th>\n",
       "      <th>dc_count_jun</th>\n",
       "      <th>card_lim</th>\n",
       "      <th>personal_loan_active</th>\n",
       "      <th>vehicle_loan_active</th>\n",
       "      <th>personal_loan_closed</th>\n",
       "      <th>vehicle_loan_closed</th>\n",
       "      <th>investment_1</th>\n",
       "      <th>investment_2</th>\n",
       "      <th>investment_3</th>\n",
       "      <th>investment_4</th>\n",
       "      <th>debit_amount_apr</th>\n",
       "      <th>credit_amount_apr</th>\n",
       "      <th>debit_count_apr</th>\n",
       "      <th>credit_count_apr</th>\n",
       "      <th>max_credit_amount_apr</th>\n",
       "      <th>debit_amount_may</th>\n",
       "      <th>credit_amount_may</th>\n",
       "      <th>credit_count_may</th>\n",
       "      <th>debit_count_may</th>\n",
       "      <th>max_credit_amount_may</th>\n",
       "      <th>debit_amount_jun</th>\n",
       "      <th>credit_amount_jun</th>\n",
       "      <th>credit_count_jun</th>\n",
       "      <th>debit_count_jun</th>\n",
       "      <th>max_credit_amount_jun</th>\n",
       "      <th>loan_enq</th>\n",
       "      <th>emi_active</th>\n",
       "    </tr>\n",
       "  </thead>\n",
       "  <tbody>\n",
       "    <tr>\n",
       "      <th>0</th>\n",
       "      <td>6975</td>\n",
       "      <td>saving</td>\n",
       "      <td>M</td>\n",
       "      <td>36</td>\n",
       "      <td>447</td>\n",
       "      <td>17942.70</td>\n",
       "      <td>1170.0</td>\n",
       "      <td>1656.00</td>\n",
       "      <td>NaN</td>\n",
       "      <td>4551.00</td>\n",
       "      <td>NaN</td>\n",
       "      <td>6.0</td>\n",
       "      <td>2.0</td>\n",
       "      <td>6.0</td>\n",
       "      <td>1.0</td>\n",
       "      <td>NaN</td>\n",
       "      <td>NaN</td>\n",
       "      <td>75000.0</td>\n",
       "      <td>NaN</td>\n",
       "      <td>NaN</td>\n",
       "      <td>NaN</td>\n",
       "      <td>1.0</td>\n",
       "      <td>NaN</td>\n",
       "      <td>NaN</td>\n",
       "      <td>NaN</td>\n",
       "      <td>NaN</td>\n",
       "      <td>10806.93</td>\n",
       "      <td>25279.0</td>\n",
       "      <td>7.0</td>\n",
       "      <td>2.0</td>\n",
       "      <td>20000.0</td>\n",
       "      <td>21530.34</td>\n",
       "      <td>15416.52</td>\n",
       "      <td>3.0</td>\n",
       "      <td>7.0</td>\n",
       "      <td>10000.0</td>\n",
       "      <td>17316.44</td>\n",
       "      <td>5154.0</td>\n",
       "      <td>2.0</td>\n",
       "      <td>8.0</td>\n",
       "      <td>5000.0</td>\n",
       "      <td>NaN</td>\n",
       "      <td>0.00</td>\n",
       "    </tr>\n",
       "    <tr>\n",
       "      <th>1</th>\n",
       "      <td>43223</td>\n",
       "      <td>current</td>\n",
       "      <td>M</td>\n",
       "      <td>31</td>\n",
       "      <td>233</td>\n",
       "      <td>44870.36</td>\n",
       "      <td>NaN</td>\n",
       "      <td>34177.00</td>\n",
       "      <td>NaN</td>\n",
       "      <td>25889.21</td>\n",
       "      <td>NaN</td>\n",
       "      <td>13.0</td>\n",
       "      <td>19.0</td>\n",
       "      <td>36.0</td>\n",
       "      <td>NaN</td>\n",
       "      <td>NaN</td>\n",
       "      <td>NaN</td>\n",
       "      <td>116000.0</td>\n",
       "      <td>NaN</td>\n",
       "      <td>NaN</td>\n",
       "      <td>NaN</td>\n",
       "      <td>NaN</td>\n",
       "      <td>NaN</td>\n",
       "      <td>NaN</td>\n",
       "      <td>NaN</td>\n",
       "      <td>NaN</td>\n",
       "      <td>NaN</td>\n",
       "      <td>NaN</td>\n",
       "      <td>NaN</td>\n",
       "      <td>NaN</td>\n",
       "      <td>NaN</td>\n",
       "      <td>NaN</td>\n",
       "      <td>NaN</td>\n",
       "      <td>NaN</td>\n",
       "      <td>NaN</td>\n",
       "      <td>NaN</td>\n",
       "      <td>NaN</td>\n",
       "      <td>NaN</td>\n",
       "      <td>NaN</td>\n",
       "      <td>NaN</td>\n",
       "      <td>NaN</td>\n",
       "      <td>NaN</td>\n",
       "      <td>0.00</td>\n",
       "    </tr>\n",
       "    <tr>\n",
       "      <th>2</th>\n",
       "      <td>45502</td>\n",
       "      <td>current</td>\n",
       "      <td>M</td>\n",
       "      <td>26</td>\n",
       "      <td>823</td>\n",
       "      <td>1073.00</td>\n",
       "      <td>2442.0</td>\n",
       "      <td>4141.00</td>\n",
       "      <td>390.0</td>\n",
       "      <td>6740.29</td>\n",
       "      <td>642.0</td>\n",
       "      <td>3.0</td>\n",
       "      <td>5.0</td>\n",
       "      <td>2.0</td>\n",
       "      <td>8.0</td>\n",
       "      <td>3.0</td>\n",
       "      <td>3.0</td>\n",
       "      <td>40000.0</td>\n",
       "      <td>NaN</td>\n",
       "      <td>NaN</td>\n",
       "      <td>NaN</td>\n",
       "      <td>NaN</td>\n",
       "      <td>NaN</td>\n",
       "      <td>NaN</td>\n",
       "      <td>NaN</td>\n",
       "      <td>NaN</td>\n",
       "      <td>83205.22</td>\n",
       "      <td>105813.0</td>\n",
       "      <td>33.0</td>\n",
       "      <td>5.0</td>\n",
       "      <td>39000.0</td>\n",
       "      <td>90312.48</td>\n",
       "      <td>65227.00</td>\n",
       "      <td>4.0</td>\n",
       "      <td>22.0</td>\n",
       "      <td>26926.0</td>\n",
       "      <td>33981.00</td>\n",
       "      <td>37762.0</td>\n",
       "      <td>3.0</td>\n",
       "      <td>15.0</td>\n",
       "      <td>29352.0</td>\n",
       "      <td>NaN</td>\n",
       "      <td>2885.82</td>\n",
       "    </tr>\n",
       "    <tr>\n",
       "      <th>3</th>\n",
       "      <td>12368</td>\n",
       "      <td>current</td>\n",
       "      <td>M</td>\n",
       "      <td>39</td>\n",
       "      <td>878</td>\n",
       "      <td>33060.58</td>\n",
       "      <td>NaN</td>\n",
       "      <td>3797.12</td>\n",
       "      <td>NaN</td>\n",
       "      <td>291.00</td>\n",
       "      <td>NaN</td>\n",
       "      <td>16.0</td>\n",
       "      <td>12.0</td>\n",
       "      <td>15.0</td>\n",
       "      <td>NaN</td>\n",
       "      <td>NaN</td>\n",
       "      <td>NaN</td>\n",
       "      <td>86000.0</td>\n",
       "      <td>NaN</td>\n",
       "      <td>NaN</td>\n",
       "      <td>NaN</td>\n",
       "      <td>NaN</td>\n",
       "      <td>NaN</td>\n",
       "      <td>NaN</td>\n",
       "      <td>NaN</td>\n",
       "      <td>NaN</td>\n",
       "      <td>45342.25</td>\n",
       "      <td>59640.0</td>\n",
       "      <td>4.0</td>\n",
       "      <td>5.0</td>\n",
       "      <td>28753.0</td>\n",
       "      <td>84699.30</td>\n",
       "      <td>63393.00</td>\n",
       "      <td>4.0</td>\n",
       "      <td>8.0</td>\n",
       "      <td>57185.0</td>\n",
       "      <td>52927.00</td>\n",
       "      <td>89425.0</td>\n",
       "      <td>7.0</td>\n",
       "      <td>11.0</td>\n",
       "      <td>32696.0</td>\n",
       "      <td>NaN</td>\n",
       "      <td>0.00</td>\n",
       "    </tr>\n",
       "    <tr>\n",
       "      <th>4</th>\n",
       "      <td>40415</td>\n",
       "      <td>current</td>\n",
       "      <td>M</td>\n",
       "      <td>44</td>\n",
       "      <td>404</td>\n",
       "      <td>18236.90</td>\n",
       "      <td>NaN</td>\n",
       "      <td>30513.30</td>\n",
       "      <td>NaN</td>\n",
       "      <td>20395.28</td>\n",
       "      <td>NaN</td>\n",
       "      <td>42.0</td>\n",
       "      <td>38.0</td>\n",
       "      <td>20.0</td>\n",
       "      <td>NaN</td>\n",
       "      <td>NaN</td>\n",
       "      <td>NaN</td>\n",
       "      <td>250000.0</td>\n",
       "      <td>NaN</td>\n",
       "      <td>NaN</td>\n",
       "      <td>NaN</td>\n",
       "      <td>NaN</td>\n",
       "      <td>NaN</td>\n",
       "      <td>NaN</td>\n",
       "      <td>NaN</td>\n",
       "      <td>NaN</td>\n",
       "      <td>25493.95</td>\n",
       "      <td>25154.0</td>\n",
       "      <td>4.0</td>\n",
       "      <td>1.0</td>\n",
       "      <td>25000.0</td>\n",
       "      <td>39813.40</td>\n",
       "      <td>45120.00</td>\n",
       "      <td>1.0</td>\n",
       "      <td>5.0</td>\n",
       "      <td>45000.0</td>\n",
       "      <td>31656.69</td>\n",
       "      <td>34275.0</td>\n",
       "      <td>3.0</td>\n",
       "      <td>4.0</td>\n",
       "      <td>19000.0</td>\n",
       "      <td>NaN</td>\n",
       "      <td>3342.58</td>\n",
       "    </tr>\n",
       "  </tbody>\n",
       "</table>\n",
       "</div>"
      ],
      "text/plain": [
       "      id account_type gender  age  region_code  cc_cons_apr  dc_cons_apr  \\\n",
       "0   6975       saving      M   36          447     17942.70       1170.0   \n",
       "1  43223      current      M   31          233     44870.36          NaN   \n",
       "2  45502      current      M   26          823      1073.00       2442.0   \n",
       "3  12368      current      M   39          878     33060.58          NaN   \n",
       "4  40415      current      M   44          404     18236.90          NaN   \n",
       "\n",
       "   cc_cons_may  dc_cons_may  cc_cons_jun  dc_cons_jun  cc_count_apr  \\\n",
       "0      1656.00          NaN      4551.00          NaN           6.0   \n",
       "1     34177.00          NaN     25889.21          NaN          13.0   \n",
       "2      4141.00        390.0      6740.29        642.0           3.0   \n",
       "3      3797.12          NaN       291.00          NaN          16.0   \n",
       "4     30513.30          NaN     20395.28          NaN          42.0   \n",
       "\n",
       "   cc_count_may  cc_count_jun  dc_count_apr  dc_count_may  dc_count_jun  \\\n",
       "0           2.0           6.0           1.0           NaN           NaN   \n",
       "1          19.0          36.0           NaN           NaN           NaN   \n",
       "2           5.0           2.0           8.0           3.0           3.0   \n",
       "3          12.0          15.0           NaN           NaN           NaN   \n",
       "4          38.0          20.0           NaN           NaN           NaN   \n",
       "\n",
       "   card_lim  personal_loan_active  vehicle_loan_active  personal_loan_closed  \\\n",
       "0   75000.0                   NaN                  NaN                   NaN   \n",
       "1  116000.0                   NaN                  NaN                   NaN   \n",
       "2   40000.0                   NaN                  NaN                   NaN   \n",
       "3   86000.0                   NaN                  NaN                   NaN   \n",
       "4  250000.0                   NaN                  NaN                   NaN   \n",
       "\n",
       "   vehicle_loan_closed  investment_1  investment_2  investment_3  \\\n",
       "0                  1.0           NaN           NaN           NaN   \n",
       "1                  NaN           NaN           NaN           NaN   \n",
       "2                  NaN           NaN           NaN           NaN   \n",
       "3                  NaN           NaN           NaN           NaN   \n",
       "4                  NaN           NaN           NaN           NaN   \n",
       "\n",
       "   investment_4  debit_amount_apr  credit_amount_apr  debit_count_apr  \\\n",
       "0           NaN          10806.93            25279.0              7.0   \n",
       "1           NaN               NaN                NaN              NaN   \n",
       "2           NaN          83205.22           105813.0             33.0   \n",
       "3           NaN          45342.25            59640.0              4.0   \n",
       "4           NaN          25493.95            25154.0              4.0   \n",
       "\n",
       "   credit_count_apr  max_credit_amount_apr  debit_amount_may  \\\n",
       "0               2.0                20000.0          21530.34   \n",
       "1               NaN                    NaN               NaN   \n",
       "2               5.0                39000.0          90312.48   \n",
       "3               5.0                28753.0          84699.30   \n",
       "4               1.0                25000.0          39813.40   \n",
       "\n",
       "   credit_amount_may  credit_count_may  debit_count_may  \\\n",
       "0           15416.52               3.0              7.0   \n",
       "1                NaN               NaN              NaN   \n",
       "2           65227.00               4.0             22.0   \n",
       "3           63393.00               4.0              8.0   \n",
       "4           45120.00               1.0              5.0   \n",
       "\n",
       "   max_credit_amount_may  debit_amount_jun  credit_amount_jun  \\\n",
       "0                10000.0          17316.44             5154.0   \n",
       "1                    NaN               NaN                NaN   \n",
       "2                26926.0          33981.00            37762.0   \n",
       "3                57185.0          52927.00            89425.0   \n",
       "4                45000.0          31656.69            34275.0   \n",
       "\n",
       "   credit_count_jun  debit_count_jun  max_credit_amount_jun loan_enq  \\\n",
       "0               2.0              8.0                 5000.0      NaN   \n",
       "1               NaN              NaN                    NaN      NaN   \n",
       "2               3.0             15.0                29352.0      NaN   \n",
       "3               7.0             11.0                32696.0      NaN   \n",
       "4               3.0              4.0                19000.0      NaN   \n",
       "\n",
       "   emi_active  \n",
       "0        0.00  \n",
       "1        0.00  \n",
       "2     2885.82  \n",
       "3        0.00  \n",
       "4     3342.58  "
      ]
     },
     "execution_count": 5,
     "metadata": {},
     "output_type": "execute_result"
    }
   ],
   "source": [
    "df_test.head()"
   ]
  },
  {
   "cell_type": "code",
   "execution_count": 6,
   "metadata": {
    "ExecuteTime": {
     "end_time": "2020-10-02T09:01:00.678703Z",
     "start_time": "2020-10-02T09:00:52.075477Z"
    },
    "scrolled": false
   },
   "outputs": [],
   "source": [
    "# using pandas_profiling for Exploratory Data Analysis\n",
    "import pandas_profiling\n",
    "# pandas_profiling.ProfileReport(df_train)"
   ]
  },
  {
   "cell_type": "markdown",
   "metadata": {},
   "source": [
    "#### Important points to note from information obtained through Profiling report\n",
    "-\n",
    "-\n",
    "-\n",
    "-\n",
    "\n",
    "1) Columns like 'personal_loan_active', 'personal_loan_closed', 'loan_enq', vehicle_loan_active',  and 'vehicle_loan_closed' contain a single constant value(1.0) and have more than 90 percent missing values. Since the tags are categorical in nature, we'll assume that these missing values as '0'. For eg: Null values in personal_loan_active means that the customer has not taken any loan.\n",
    "\n",
    "2) Also, we'll drop columns 'investment_1', 'investment_2', 'investment_3',' investment_4' because these variables have more than 99.9 percent of the values missing.\n",
    "\n",
    "3) We'll also drop columns 'dc_cons_may', 'dc_cons_apr', 'dc_cons_jun' , dc_count_apr', 'dc_count_may', 'dc_count_june' because these columns have more than 58 percent data missing and columns 'max_credit_amount_apr', 'max_credit_amount_may', 'max_credit_amount_june' because these columns are highly correlated with columns 'credit_amount_apr', credit_amount_may', 'credit_amount_june'.\n",
    "\n",
    "4) We'll also drop columns 'debit_amount_apr','debit_amount_june', 'debit_amount_may' due to their high correlation with  its credit counterparts\n",
    "\n",
    "5) Age column has huge outlier values"
   ]
  },
  {
   "cell_type": "code",
   "execution_count": 7,
   "metadata": {
    "ExecuteTime": {
     "end_time": "2020-10-02T09:01:00.695803Z",
     "start_time": "2020-10-02T09:01:00.680702Z"
    }
   },
   "outputs": [],
   "source": [
    "#replacing the null values in 'personal_loan_active', 'personal_loan_closed', 'loan_enq','vehicle_loan_active', and 'vehicle_loan_closed' columns with '0'.\n",
    "\n",
    "loan_type = ['personal_loan_active','personal_loan_closed','loan_enq','vehicle_loan_active','vehicle_loan_closed']\n",
    "for i in loan_type:\n",
    "    df_train[i].fillna(0.0, inplace= True) "
   ]
  },
  {
   "cell_type": "code",
   "execution_count": 8,
   "metadata": {
    "ExecuteTime": {
     "end_time": "2020-10-02T09:01:00.898519Z",
     "start_time": "2020-10-02T09:01:00.700748Z"
    }
   },
   "outputs": [],
   "source": [
    "# replacing the loan_enq column values\n",
    "df_train['loan_enq'].replace('Y', 1.0, inplace= True)"
   ]
  },
  {
   "cell_type": "code",
   "execution_count": 9,
   "metadata": {
    "ExecuteTime": {
     "end_time": "2020-10-02T09:01:01.281874Z",
     "start_time": "2020-10-02T09:01:00.905359Z"
    }
   },
   "outputs": [],
   "source": [
    "#dropping investment columns\n",
    "df_train.drop(['investment_1','investment_2','investment_3','investment_4'], axis=1, inplace =True)"
   ]
  },
  {
   "cell_type": "code",
   "execution_count": 10,
   "metadata": {
    "ExecuteTime": {
     "end_time": "2020-10-02T09:01:01.292842Z",
     "start_time": "2020-10-02T09:01:01.286858Z"
    }
   },
   "outputs": [],
   "source": [
    "# df_train.isnull().sum()"
   ]
  },
  {
   "cell_type": "code",
   "execution_count": 11,
   "metadata": {
    "ExecuteTime": {
     "end_time": "2020-10-02T09:01:01.436838Z",
     "start_time": "2020-10-02T09:01:01.296833Z"
    }
   },
   "outputs": [],
   "source": [
    "# age column has huge outliers values\n",
    "# sns.boxplot(df_train['age'])"
   ]
  },
  {
   "cell_type": "code",
   "execution_count": 12,
   "metadata": {
    "ExecuteTime": {
     "end_time": "2020-10-02T09:01:01.890526Z",
     "start_time": "2020-10-02T09:01:01.438833Z"
    }
   },
   "outputs": [
    {
     "data": {
      "text/plain": [
       "array([224, 223, 222, 221, 220, 219, 124, 123, 121, 120, 119, 118,  71,\n",
       "        70], dtype=int64)"
      ]
     },
     "execution_count": 12,
     "metadata": {},
     "output_type": "execute_result"
    }
   ],
   "source": [
    "df_train['age'].nlargest(30).unique()"
   ]
  },
  {
   "cell_type": "code",
   "execution_count": 13,
   "metadata": {
    "ExecuteTime": {
     "end_time": "2020-10-02T09:01:02.030205Z",
     "start_time": "2020-10-02T09:01:01.894517Z"
    }
   },
   "outputs": [
    {
     "name": "stdout",
     "output_type": "stream",
     "text": [
      "25\n"
     ]
    }
   ],
   "source": [
    "# Get names of indexes for which column age has value >110\n",
    "indexNames = df_train[df_train['age'] > 110 ].index\n",
    "print(len(indexNames))\n",
    " \n",
    "# Delete these row indexes from dataFrame\n",
    "df_train.drop(indexNames , inplace=True)"
   ]
  },
  {
   "cell_type": "code",
   "execution_count": 14,
   "metadata": {
    "ExecuteTime": {
     "end_time": "2020-10-02T09:01:02.210688Z",
     "start_time": "2020-10-02T09:01:02.034166Z"
    }
   },
   "outputs": [
    {
     "name": "stdout",
     "output_type": "stream",
     "text": [
      "6\n"
     ]
    }
   ],
   "source": [
    "# Get names of indexes for which card limit variable 'card_lim' has value 0 and 1, because there is no point of holding a credit card that has card_lim of 0\n",
    "indexNames = df_train[df_train['card_lim'] < 10 ].index\n",
    "print(len(indexNames))\n",
    " \n",
    "# Delete these row indexes from dataFrame\n",
    "df_train.drop(indexNames , inplace=True)"
   ]
  },
  {
   "cell_type": "code",
   "execution_count": 15,
   "metadata": {
    "ExecuteTime": {
     "end_time": "2020-10-02T09:01:02.398044Z",
     "start_time": "2020-10-02T09:01:02.213670Z"
    }
   },
   "outputs": [],
   "source": [
    "# Replacing the NaN values in various columns\n",
    "col= ['cc_count_apr','cc_count_may','cc_count_jun','credit_amount_apr','credit_amount_may','credit_amount_jun',\n",
    "      'credit_count_apr','credit_count_may','credit_count_jun','debit_count_apr','debit_count_may','debit_count_jun',\n",
    "      'debit_amount_apr','debit_amount_may','debit_amount_jun', 'card_lim']\n",
    "for i in col:\n",
    "    df_train[i].fillna(df_train[i].mean(), inplace= True)"
   ]
  },
  {
   "cell_type": "code",
   "execution_count": 16,
   "metadata": {
    "ExecuteTime": {
     "end_time": "2020-10-02T09:01:02.592524Z",
     "start_time": "2020-10-02T09:01:02.401037Z"
    }
   },
   "outputs": [],
   "source": [
    "# dropping columns with high correlation and huge volume of missing values\n",
    "df_train.drop(['max_credit_amount_apr','max_credit_amount_may','max_credit_amount_jun','dc_cons_apr',\n",
    "               'dc_cons_may','dc_cons_jun','dc_count_apr','dc_count_may','dc_count_jun'], axis=1, inplace =True)"
   ]
  },
  {
   "cell_type": "code",
   "execution_count": 17,
   "metadata": {
    "ExecuteTime": {
     "end_time": "2020-10-02T09:01:02.801966Z",
     "start_time": "2020-10-02T09:01:02.595516Z"
    }
   },
   "outputs": [],
   "source": [
    "#dropping id column\n",
    "df_train.drop(['id'], axis= 1, inplace =True)"
   ]
  },
  {
   "cell_type": "code",
   "execution_count": 18,
   "metadata": {
    "ExecuteTime": {
     "end_time": "2020-10-02T09:01:03.761385Z",
     "start_time": "2020-10-02T09:01:02.804956Z"
    },
    "scrolled": true
   },
   "outputs": [],
   "source": [
    "#creating dummies for variables account_type, and gender\n",
    "df_train= pd.get_dummies(df_train, columns =['account_type','gender'], drop_first = True)"
   ]
  },
  {
   "cell_type": "code",
   "execution_count": 19,
   "metadata": {
    "ExecuteTime": {
     "end_time": "2020-10-02T09:01:03.992603Z",
     "start_time": "2020-10-02T09:01:03.763351Z"
    },
    "scrolled": true
   },
   "outputs": [],
   "source": [
    "# df_train.head()"
   ]
  },
  {
   "cell_type": "code",
   "execution_count": 20,
   "metadata": {
    "ExecuteTime": {
     "end_time": "2020-10-02T09:01:05.538363Z",
     "start_time": "2020-10-02T09:01:04.002577Z"
    }
   },
   "outputs": [],
   "source": [
    "# generating new features\n",
    "df_train['cc_cons_total'] = df_train['cc_cons_apr']+ df_train['cc_cons_may']+ df_train['cc_cons_jun']\n",
    "df_train['cc_count_total']= df_train['cc_count_apr']+ df_train['cc_count_may']+ df_train['cc_count_jun']\n",
    "df_train['credit_amount_total']=df_train['credit_amount_apr']+df_train['credit_amount_may']+df_train['credit_amount_jun']\n",
    "df_train['credit_count_total']= df_train['credit_count_apr']+df_train['credit_count_may']+df_train['credit_count_jun']\n",
    "\n",
    "df_train['debit_amount_total']=df_train['debit_amount_apr']+df_train['debit_amount_may']+df_train['debit_amount_jun']\n",
    "df_train['debit_count_total'] = df_train['debit_count_apr']+df_train['debit_count_may']+df_train['debit_count_jun'] \n",
    "\n",
    "# df_train['debit_credit_amt_ratio']= df_train['credit_amount_total']/ df_train['debit_amount_total']\n",
    "# df_train['debit_credit_count_ratio']= df_train['credit_count_total'] / df_train['debit_count_total']"
   ]
  },
  {
   "cell_type": "code",
   "execution_count": 21,
   "metadata": {
    "ExecuteTime": {
     "end_time": "2020-10-02T09:01:05.551328Z",
     "start_time": "2020-10-02T09:01:05.541356Z"
    }
   },
   "outputs": [
    {
     "data": {
      "text/plain": [
       "36"
      ]
     },
     "execution_count": 21,
     "metadata": {},
     "output_type": "execute_result"
    }
   ],
   "source": [
    "len(df_train.columns)"
   ]
  },
  {
   "cell_type": "code",
   "execution_count": 22,
   "metadata": {
    "ExecuteTime": {
     "end_time": "2020-10-02T09:01:05.749207Z",
     "start_time": "2020-10-02T09:01:05.557312Z"
    }
   },
   "outputs": [],
   "source": [
    "# df_train.isnull().sum()"
   ]
  },
  {
   "cell_type": "code",
   "execution_count": 23,
   "metadata": {
    "ExecuteTime": {
     "end_time": "2020-10-02T09:01:06.000754Z",
     "start_time": "2020-10-02T09:01:05.772140Z"
    }
   },
   "outputs": [],
   "source": [
    "target = df_train['cc_cons']\n",
    "df_train.drop(['cc_cons'], inplace= True, axis=1)"
   ]
  },
  {
   "cell_type": "code",
   "execution_count": 24,
   "metadata": {
    "ExecuteTime": {
     "end_time": "2020-10-02T09:01:06.972260Z",
     "start_time": "2020-10-02T09:01:06.008733Z"
    },
    "scrolled": true
   },
   "outputs": [],
   "source": [
    "from sklearn.model_selection import train_test_split\n",
    "x_train, x_test, y_train, y_test = train_test_split(df_train, target, test_size = 0.3)"
   ]
  },
  {
   "cell_type": "code",
   "execution_count": 25,
   "metadata": {
    "ExecuteTime": {
     "end_time": "2020-10-02T09:01:19.764658Z",
     "start_time": "2020-10-02T09:01:06.975226Z"
    }
   },
   "outputs": [
    {
     "name": "stdout",
     "output_type": "stream",
     "text": [
      "1.4056338720065769\n"
     ]
    }
   ],
   "source": [
    "from sklearn.metrics import *\n",
    "from sklearn.ensemble import RandomForestRegressor\n",
    "rf= RandomForestRegressor()\n",
    "rf.fit(x_train, y_train)\n",
    "y_pred = rf.predict(x_test)\n",
    "rmse= np.sqrt(mean_squared_log_error(y_test, y_pred))\n",
    "print(rmse)"
   ]
  },
  {
   "cell_type": "code",
   "execution_count": 26,
   "metadata": {
    "ExecuteTime": {
     "end_time": "2020-10-02T09:01:19.798562Z",
     "start_time": "2020-10-02T09:01:19.769640Z"
    }
   },
   "outputs": [
    {
     "data": {
      "text/html": [
       "<div>\n",
       "<style scoped>\n",
       "    .dataframe tbody tr th:only-of-type {\n",
       "        vertical-align: middle;\n",
       "    }\n",
       "\n",
       "    .dataframe tbody tr th {\n",
       "        vertical-align: top;\n",
       "    }\n",
       "\n",
       "    .dataframe thead th {\n",
       "        text-align: right;\n",
       "    }\n",
       "</style>\n",
       "<table border=\"1\" class=\"dataframe\">\n",
       "  <thead>\n",
       "    <tr style=\"text-align: right;\">\n",
       "      <th></th>\n",
       "      <th>Actual</th>\n",
       "      <th>Predicted</th>\n",
       "    </tr>\n",
       "  </thead>\n",
       "  <tbody>\n",
       "    <tr>\n",
       "      <th>27286</th>\n",
       "      <td>1434</td>\n",
       "      <td>3482.1</td>\n",
       "    </tr>\n",
       "    <tr>\n",
       "      <th>8055</th>\n",
       "      <td>228</td>\n",
       "      <td>52313.8</td>\n",
       "    </tr>\n",
       "    <tr>\n",
       "      <th>19080</th>\n",
       "      <td>13539</td>\n",
       "      <td>2675.8</td>\n",
       "    </tr>\n",
       "    <tr>\n",
       "      <th>14555</th>\n",
       "      <td>1098</td>\n",
       "      <td>2276.9</td>\n",
       "    </tr>\n",
       "    <tr>\n",
       "      <th>12999</th>\n",
       "      <td>4951</td>\n",
       "      <td>6185.2</td>\n",
       "    </tr>\n",
       "  </tbody>\n",
       "</table>\n",
       "</div>"
      ],
      "text/plain": [
       "       Actual  Predicted\n",
       "27286    1434     3482.1\n",
       "8055      228    52313.8\n",
       "19080   13539     2675.8\n",
       "14555    1098     2276.9\n",
       "12999    4951     6185.2"
      ]
     },
     "execution_count": 26,
     "metadata": {},
     "output_type": "execute_result"
    }
   ],
   "source": [
    "df_c = pd.DataFrame({'Actual': y_test, 'Predicted': y_pred})\n",
    "df_c.tail()"
   ]
  },
  {
   "cell_type": "code",
   "execution_count": 27,
   "metadata": {
    "ExecuteTime": {
     "end_time": "2020-10-02T09:01:30.777193Z",
     "start_time": "2020-10-02T09:01:19.804547Z"
    }
   },
   "outputs": [
    {
     "name": "stdout",
     "output_type": "stream",
     "text": [
      "Validation RMSE for Decision Tree Model: 2\n",
      "Validation RMSE for Random Forest Model: 1.39\n"
     ]
    }
   ],
   "source": [
    "from sklearn.tree import DecisionTreeRegressor\n",
    "from sklearn.ensemble import RandomForestRegressor\n",
    "# Specify Model\n",
    "dct = DecisionTreeRegressor(random_state=0)\n",
    "# Fit Model\n",
    "dct.fit(x_train, y_train)\n",
    "# Make validation predictions and calculate root mean squared error\n",
    "y_pred = dct.predict(x_test)\n",
    "rmse = np.sqrt(mean_squared_log_error(y_test, y_pred))\n",
    "print(\"Validation RMSE for Decision Tree Model: {:,.0f}\".format(rmse))\n",
    "\n",
    "# Define the random forest model.\n",
    "rf_model = RandomForestRegressor(random_state=1)\n",
    "rf_model.fit(x_train, y_train)\n",
    "rf_pred = rf_model.predict(x_test)\n",
    "rmse = np.sqrt(mean_squared_log_error(rf_pred, y_test))\n",
    "\n",
    "print(\"Validation RMSE for Random Forest Model:\",round(rmse,2))\n"
   ]
  },
  {
   "cell_type": "code",
   "execution_count": 28,
   "metadata": {
    "ExecuteTime": {
     "end_time": "2020-10-02T09:14:50.991966Z",
     "start_time": "2020-10-02T09:01:30.779186Z"
    }
   },
   "outputs": [
    {
     "name": "stdout",
     "output_type": "stream",
     "text": [
      "Best Score:-119427666.7057092\n",
      "Best Parameters: {'max_depth': 7, 'max_features': 'sqrt', 'n_estimators': 200}\n"
     ]
    }
   ],
   "source": [
    "from sklearn.model_selection import GridSearchCV\n",
    "param_grid = {'n_estimators': [100,200,300], 'max_depth' : [3,5,7],\n",
    "              'max_features': ['auto','sqrt']},\n",
    "rf= RandomForestRegressor()\n",
    "grid_search = GridSearchCV(estimator = rf, param_grid = param_grid , scoring = 'neg_mean_squared_error')\n",
    "\n",
    "grid_search.fit(x_train,y_train)\n",
    "\n",
    "print(\"Best Score:\" + str(grid_search.best_score_))\n",
    "print(\"Best Parameters: \" + str(grid_search.best_params_))\n",
    "best_parameters = grid_search.best_params_"
   ]
  },
  {
   "cell_type": "code",
   "execution_count": 29,
   "metadata": {
    "ExecuteTime": {
     "end_time": "2020-10-02T09:14:59.302087Z",
     "start_time": "2020-10-02T09:14:50.994958Z"
    }
   },
   "outputs": [
    {
     "data": {
      "text/plain": [
       "1.3688470546963771"
      ]
     },
     "execution_count": 29,
     "metadata": {},
     "output_type": "execute_result"
    }
   ],
   "source": [
    "rf = RandomForestRegressor(**best_parameters)\n",
    "rf.fit(x_train, y_train)\n",
    "predictions = rf.predict(x_test)\n",
    "val_mse = np.sqrt(mean_squared_log_error(predictions, y_test))\n",
    "val_mse"
   ]
  },
  {
   "cell_type": "code",
   "execution_count": null,
   "metadata": {},
   "outputs": [],
   "source": []
  },
  {
   "cell_type": "code",
   "execution_count": 30,
   "metadata": {
    "ExecuteTime": {
     "end_time": "2020-10-02T09:14:59.312741Z",
     "start_time": "2020-10-02T09:14:59.304083Z"
    }
   },
   "outputs": [],
   "source": [
    "# replacing the null values in 'personal_loan_active', 'personal_loan_closed', 'loan_enq','vehicle_loan_active', and \n",
    "#'vehicle_loan_closed' columns with '0'\n",
    "loan_type = ['personal_loan_active','personal_loan_closed','loan_enq','vehicle_loan_active','vehicle_loan_closed']\n",
    "\n",
    "for i in loan_type:\n",
    "    df_test[i].fillna(0.0, inplace= True) "
   ]
  },
  {
   "cell_type": "code",
   "execution_count": 31,
   "metadata": {
    "ExecuteTime": {
     "end_time": "2020-10-02T09:14:59.495638Z",
     "start_time": "2020-10-02T09:14:59.316732Z"
    }
   },
   "outputs": [],
   "source": [
    "# df_train['loan_enq'].value_counts()\n",
    "df_test['loan_enq'].replace('Y', 1.0, inplace= True)"
   ]
  },
  {
   "cell_type": "code",
   "execution_count": 32,
   "metadata": {
    "ExecuteTime": {
     "end_time": "2020-10-02T09:14:59.775541Z",
     "start_time": "2020-10-02T09:14:59.499488Z"
    }
   },
   "outputs": [],
   "source": [
    "#dropping investment columns\n",
    "df_test.drop(['investment_1','investment_2','investment_3','investment_4'], axis=1, inplace =True)"
   ]
  },
  {
   "cell_type": "code",
   "execution_count": 33,
   "metadata": {
    "ExecuteTime": {
     "end_time": "2020-10-02T09:15:00.022716Z",
     "start_time": "2020-10-02T09:14:59.778379Z"
    },
    "scrolled": true
   },
   "outputs": [],
   "source": [
    "#replcing the extreme outliers in age and card_lim column\n",
    "mean_age= df_test['age'].mean()\n",
    "df_test['card_lim'].mean()\n",
    "df_test.loc[df_test.age >110 , 'age'] = mean_age\n",
    "df_test.loc[df_test.card_lim  <10, 'card_lim'] = df_test['card_lim'].mean()"
   ]
  },
  {
   "cell_type": "code",
   "execution_count": 34,
   "metadata": {
    "ExecuteTime": {
     "end_time": "2020-10-02T09:15:00.182247Z",
     "start_time": "2020-10-02T09:15:00.024711Z"
    }
   },
   "outputs": [],
   "source": [
    "# Replacing the NaN values in column card_lim by mean\n",
    "df_test['card_lim'].fillna(df_test['card_lim'].mean(), inplace =True)"
   ]
  },
  {
   "cell_type": "code",
   "execution_count": 35,
   "metadata": {
    "ExecuteTime": {
     "end_time": "2020-10-02T09:15:00.355877Z",
     "start_time": "2020-10-02T09:15:00.189236Z"
    }
   },
   "outputs": [],
   "source": [
    "#  Replacing the NaN values in various columns\n",
    "col= ['cc_count_apr','cc_count_may','cc_count_jun','credit_amount_apr','credit_amount_may','credit_amount_jun',\n",
    "      'credit_count_apr','credit_count_may','credit_count_jun','debit_count_apr','debit_count_may','debit_count_jun',\n",
    "      'debit_amount_apr','debit_amount_may','debit_amount_jun', 'card_lim']\n",
    "for i in col:\n",
    "    df_test[i].fillna(df_test[i].mean(), inplace= True)"
   ]
  },
  {
   "cell_type": "code",
   "execution_count": 36,
   "metadata": {
    "ExecuteTime": {
     "end_time": "2020-10-02T09:15:00.609966Z",
     "start_time": "2020-10-02T09:15:00.360768Z"
    }
   },
   "outputs": [],
   "source": [
    "#dropping columns with high correlation and huge volume of missing values\n",
    "df_test.drop(['max_credit_amount_apr','max_credit_amount_may','max_credit_amount_jun','dc_cons_apr',\n",
    "               'dc_cons_may','dc_cons_jun','dc_count_apr','dc_count_may','dc_count_jun'], axis=1, inplace =True)"
   ]
  },
  {
   "cell_type": "code",
   "execution_count": 37,
   "metadata": {
    "ExecuteTime": {
     "end_time": "2020-10-02T09:15:00.801537Z",
     "start_time": "2020-10-02T09:15:00.614777Z"
    }
   },
   "outputs": [],
   "source": [
    "#dropping id column\n",
    "id_= df_test['id']\n",
    "df_test.drop(['id'], axis= 1, inplace =True)"
   ]
  },
  {
   "cell_type": "code",
   "execution_count": 38,
   "metadata": {
    "ExecuteTime": {
     "end_time": "2020-10-02T09:15:01.069838Z",
     "start_time": "2020-10-02T09:15:00.808483Z"
    }
   },
   "outputs": [],
   "source": [
    "#creating dummies for variables account_type, and gender\n",
    "df_test= pd.get_dummies(df_test, columns =['account_type','gender'], drop_first = True)"
   ]
  },
  {
   "cell_type": "code",
   "execution_count": 39,
   "metadata": {
    "ExecuteTime": {
     "end_time": "2020-10-02T09:15:01.487807Z",
     "start_time": "2020-10-02T09:15:01.072831Z"
    }
   },
   "outputs": [],
   "source": [
    "# Creating new features\n",
    "df_test['cc_cons_total'] = df_test['cc_cons_apr']+ df_test['cc_cons_may']+ df_test['cc_cons_jun']\n",
    "df_test['cc_count_total']= df_test['cc_count_apr']+ df_test['cc_count_may']+ df_test['cc_count_jun']\n",
    "df_test['credit_amount_total']=df_test['credit_amount_apr']+df_test['credit_amount_may']+df_test['credit_amount_jun']\n",
    "df_test['credit_count_total']= df_test['credit_count_apr']+df_test['credit_count_may']+df_test['credit_count_jun']\n",
    "\n",
    "df_test['debit_amount_total']=df_test['debit_amount_apr']+df_test['debit_amount_may']+df_test['debit_amount_jun']\n",
    "df_test['debit_count_total'] = df_test['debit_count_apr']+df_test['debit_count_may']+df_test['debit_count_jun'] \n",
    "\n",
    "# df_train['debit_credit_amt_ratio']= df_train['credit_amount_total']// df_train['debit_amount_total']\n",
    "# df_train['debit_credit_count_ratio']= df_train['credit_count_total'] // df_train['debit_count_total']\n"
   ]
  },
  {
   "cell_type": "code",
   "execution_count": 40,
   "metadata": {
    "ExecuteTime": {
     "end_time": "2020-10-02T09:15:01.664818Z",
     "start_time": "2020-10-02T09:15:01.492793Z"
    }
   },
   "outputs": [],
   "source": [
    "rf = RandomForestRegressor(**best_parameters)"
   ]
  },
  {
   "cell_type": "code",
   "execution_count": 41,
   "metadata": {
    "ExecuteTime": {
     "end_time": "2020-10-02T09:15:14.996188Z",
     "start_time": "2020-10-02T09:15:01.671721Z"
    }
   },
   "outputs": [
    {
     "data": {
      "text/html": [
       "<div>\n",
       "<style scoped>\n",
       "    .dataframe tbody tr th:only-of-type {\n",
       "        vertical-align: middle;\n",
       "    }\n",
       "\n",
       "    .dataframe tbody tr th {\n",
       "        vertical-align: top;\n",
       "    }\n",
       "\n",
       "    .dataframe thead th {\n",
       "        text-align: right;\n",
       "    }\n",
       "</style>\n",
       "<table border=\"1\" class=\"dataframe\">\n",
       "  <thead>\n",
       "    <tr style=\"text-align: right;\">\n",
       "      <th></th>\n",
       "      <th>id</th>\n",
       "      <th>cc_cons</th>\n",
       "    </tr>\n",
       "  </thead>\n",
       "  <tbody>\n",
       "    <tr>\n",
       "      <th>0</th>\n",
       "      <td>6975</td>\n",
       "      <td>4407.932713</td>\n",
       "    </tr>\n",
       "    <tr>\n",
       "      <th>1</th>\n",
       "      <td>43223</td>\n",
       "      <td>11202.232613</td>\n",
       "    </tr>\n",
       "    <tr>\n",
       "      <th>2</th>\n",
       "      <td>45502</td>\n",
       "      <td>4608.595994</td>\n",
       "    </tr>\n",
       "    <tr>\n",
       "      <th>3</th>\n",
       "      <td>12368</td>\n",
       "      <td>5850.433487</td>\n",
       "    </tr>\n",
       "    <tr>\n",
       "      <th>4</th>\n",
       "      <td>40415</td>\n",
       "      <td>9293.425208</td>\n",
       "    </tr>\n",
       "  </tbody>\n",
       "</table>\n",
       "</div>"
      ],
      "text/plain": [
       "      id       cc_cons\n",
       "0   6975   4407.932713\n",
       "1  43223  11202.232613\n",
       "2  45502   4608.595994\n",
       "3  12368   5850.433487\n",
       "4  40415   9293.425208"
      ]
     },
     "execution_count": 41,
     "metadata": {},
     "output_type": "execute_result"
    }
   ],
   "source": [
    "# Fit the model to the training data\n",
    "rf.fit(df_train, target)\n",
    "\n",
    "# Generate test predictions\n",
    "preds_test = rf.predict(df_test)\n",
    "\n",
    "output = pd.DataFrame({'id': id_,\n",
    "                       'cc_cons': preds_test})\n",
    "# output.to_csv('submission1c.csv', index=False)\n",
    "output.head()"
   ]
  }
 ],
 "metadata": {
  "kernelspec": {
   "display_name": "Python 3",
   "language": "python",
   "name": "python3"
  },
  "language_info": {
   "codemirror_mode": {
    "name": "ipython",
    "version": 3
   },
   "file_extension": ".py",
   "mimetype": "text/x-python",
   "name": "python",
   "nbconvert_exporter": "python",
   "pygments_lexer": "ipython3",
   "version": "3.7.3"
  }
 },
 "nbformat": 4,
 "nbformat_minor": 2
}
